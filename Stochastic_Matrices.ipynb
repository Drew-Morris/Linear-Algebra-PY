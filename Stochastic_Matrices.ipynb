{
  "nbformat": 4,
  "nbformat_minor": 0,
  "metadata": {
    "colab": {
      "name": "Stochastic Matrices.ipynb",
      "provenance": []
    },
    "kernelspec": {
      "name": "python3",
      "display_name": "Python 3"
    },
    "language_info": {
      "name": "python"
    }
  },
  "cells": [
    {
      "cell_type": "code",
      "metadata": {
        "id": "jWldxRNT2TfS"
      },
      "source": [
        "import sympy as sp"
      ],
      "execution_count": 2,
      "outputs": []
    },
    {
      "cell_type": "code",
      "metadata": {
        "id": "Zm5puefX2xtZ"
      },
      "source": [
        "def is_stochastic(M):\n",
        "  e = 0\n",
        "  C = 0\n",
        "  #counters\n",
        "  if M.shape[0] != M.shape[1]:\n",
        "    return False\n",
        "    #if M is not square, M is not stochastic\n",
        "  if M.shape[0] == M.shape[1]:\n",
        "    #if M is square, continue\n",
        "    for i in M:\n",
        "      if i >= 0:\n",
        "        e = e\n",
        "      if i < 0:\n",
        "        e = e+1\n",
        "        #for every term in M, if M is negative, add one to the counter, e\n",
        "    if e != 0:\n",
        "      return False\n",
        "      #if e is not 0, M is not stochastic\n",
        "    if e == 0:\n",
        "      #if e is 0, continue\n",
        "      for j in range(M.shape[1]):\n",
        "        if sum(M.col(j)) == 1:\n",
        "          C = C\n",
        "        if sum(M.col(j)) != 1:\n",
        "          C = C+1\n",
        "          #for every column in M, if the column's sum is not 1, add one to the counter, C\n",
        "      if C == 0:\n",
        "        return True\n",
        "        #if C is 0, M is stochastic\n",
        "      if C != 0:\n",
        "        return False\n",
        "        #if C is not 0, M is not stochastic\n"
      ],
      "execution_count": 5,
      "outputs": []
    },
    {
      "cell_type": "code",
      "metadata": {
        "colab": {
          "base_uri": "https://localhost:8080/"
        },
        "id": "xib45g948SUw",
        "outputId": "1be30b4f-14a6-489b-e0fe-37d05b711e18"
      },
      "source": [
        "is_stochastic(sp.Matrix([[.6,.3,.2],[.5,.5,.3],[-.1,.2,.5]]))"
      ],
      "execution_count": null,
      "outputs": [
        {
          "output_type": "execute_result",
          "data": {
            "text/plain": [
              "False"
            ]
          },
          "metadata": {},
          "execution_count": 16
        }
      ]
    },
    {
      "cell_type": "code",
      "metadata": {
        "id": "5qwNrykR9a4z"
      },
      "source": [
        "def stochastic_limit(M):\n",
        "  c = 0\n",
        "  #counter\n",
        "  if is_stochastic(M) == False:\n",
        "    raise ValueError(\"M is not stochastic\")\n",
        "    #if M is not stochastic, Raise error\n",
        "  if is_stochastic(M) == True:\n",
        "    #if M is stochastic, check if all entries are positive\n",
        "    for i in M:\n",
        "      if i > 0:\n",
        "        c = c\n",
        "      if i <= 0:\n",
        "        c = c+1\n",
        "    if c == 0:\n",
        "      #if all entries are positive...\n",
        "      E = M.eigenvects()\n",
        "      for j in range(len(E)):\n",
        "        if E[j][0] == abs(1):\n",
        "          V = E[j][2]\n",
        "          V = V[0]\n",
        "          #...V is the eigenvector of 1...\n",
        "          S = sum(V.col(0))\n",
        "          V = V/S\n",
        "          return V\n",
        "          #... and V is made stochastic\n",
        "    if c != 0:\n",
        "      #if not all entries are positive...\n",
        "      L = []\n",
        "      E = M.eigenvects()\n",
        "      for j in range(len(E)):\n",
        "        if abs(E[j][0]) == 1:\n",
        "          V = E[j][2]\n",
        "          V = V[0]\n",
        "          L.append(V)\n",
        "      return L"
      ],
      "execution_count": 7,
      "outputs": []
    },
    {
      "cell_type": "code",
      "metadata": {
        "colab": {
          "base_uri": "https://localhost:8080/"
        },
        "id": "_9fE8sL3-9q7",
        "outputId": "af561246-8391-4396-a056-ecef685017cf"
      },
      "source": [
        "stochastic_limit(sp.Matrix([[0,0,1],[1,0,0],[0,1,0]]))"
      ],
      "execution_count": 8,
      "outputs": [
        {
          "output_type": "execute_result",
          "data": {
            "text/plain": [
              "[Matrix([\n",
              " [1],\n",
              " [1],\n",
              " [1]]), Matrix([\n",
              " [    -2/(1 + sqrt(3)*I)],\n",
              " [1/(-1/2 + sqrt(3)*I/2)],\n",
              " [                     1]]), Matrix([\n",
              " [    -2/(1 - sqrt(3)*I)],\n",
              " [1/(-1/2 - sqrt(3)*I/2)],\n",
              " [                     1]])]"
            ]
          },
          "metadata": {},
          "execution_count": 8
        }
      ]
    }
  ]
}