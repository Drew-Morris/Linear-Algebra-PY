{
  "nbformat": 4,
  "nbformat_minor": 0,
  "metadata": {
    "colab": {
      "name": "Basis-finding.ipynb",
      "provenance": []
    },
    "kernelspec": {
      "name": "python3",
      "display_name": "Python 3"
    },
    "language_info": {
      "name": "python"
    }
  },
  "cells": [
    {
      "cell_type": "code",
      "metadata": {
        "id": "ZB14x8ZlTMDw"
      },
      "source": [
        "import numpy as np\n",
        "import sympy as sp\n",
        "import math as mat"
      ],
      "execution_count": 1,
      "outputs": []
    },
    {
      "cell_type": "code",
      "metadata": {
        "colab": {
          "base_uri": "https://localhost:8080/"
        },
        "id": "GPnffE8OTTII",
        "outputId": "48746cb0-3361-4d2b-e064-a513819ea2cb"
      },
      "source": [
        "def vec_basis(M):\n",
        "  l = len(M[0])\n",
        "  #vector length\n",
        "  b = []\n",
        "  #output null bases set\n",
        "  for v in range(len(M)):\n",
        "    if len(M[v]) != l:\n",
        "      raise ValueError(\"Vectors are of different sizes\")\n",
        "      #if vectors are not consistent length, raise error\n",
        "  C = M\n",
        "  #copy of M in list form\n",
        "  M = sp.Matrix(M)\n",
        "  #becomes sympy matrix\n",
        "  T = M\n",
        "  M = M.T\n",
        "  #M is transposed\n",
        "  M = M.rref()\n",
        "  #M is row reduced\n",
        "  P = M[1]\n",
        "  #P is the pivot tuple\n",
        "  for v in P:\n",
        "    b = b + [C[v]]\n",
        "    #each pivot vector is added to the bases set\n",
        "  return b"
      ],
      "execution_count": 42,
      "outputs": [
        {
          "output_type": "execute_result",
          "data": {
            "text/plain": [
              "[[1, 0, 0], [0, 1, 0], [0, 0, 1]]"
            ]
          },
          "metadata": {},
          "execution_count": 42
        }
      ]
    },
    {
      "cell_type": "code",
      "metadata": {
        "colab": {
          "base_uri": "https://localhost:8080/"
        },
        "id": "LZclyLFGZisM",
        "outputId": "e260bdc5-81b6-4763-bbd1-458977ec97f0"
      },
      "source": [
        "def lin_deps(M):\n",
        "  l = len(M[0])\n",
        "  #vector length\n",
        "  b = []\n",
        "  #output null bases set\n",
        "  for v in range(len(M)):\n",
        "    if len(M[v]) != l:\n",
        "      raise ValueError(\"Vectors are of different sizes\")\n",
        "      #if vectors are not consistent length, raise error\n",
        "  M = sp.Matrix(M)\n",
        "  #becomes sympy matrix\n",
        "  T = M\n",
        "  M = M.T\n",
        "  #M is transposed\n",
        "  M = M.rref()\n",
        "  #M is row reduced\n",
        "  M = M[0]\n",
        "  #M is now just the rref matrix\n",
        "  N = M.nullspace()\n",
        "  #N is the set of bases for the nullspace of M\n",
        "  for v in N:\n",
        "    T = v\n",
        "    v = v.T\n",
        "    b = b + v.tolist()\n",
        "    #for every basis in the nullspace, the transpose of v is added to the bases set as a list\n",
        "  return b"
      ],
      "execution_count": 83,
      "outputs": [
        {
          "output_type": "execute_result",
          "data": {
            "text/plain": [
              "[[-2, 1, 0, 0], [-1, 0, -1, 1]]"
            ]
          },
          "metadata": {},
          "execution_count": 83
        }
      ]
    }
  ]
}