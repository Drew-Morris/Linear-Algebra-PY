{
  "nbformat": 4,
  "nbformat_minor": 0,
  "metadata": {
    "colab": {
      "name": "Determinants.ipynb",
      "provenance": []
    },
    "kernelspec": {
      "name": "python3",
      "display_name": "Python 3"
    },
    "language_info": {
      "name": "python"
    }
  },
  "cells": [
    {
      "cell_type": "code",
      "metadata": {
        "id": "IrQn5vThI3R9"
      },
      "source": [
        "import numpy as np\n",
        "import sympy as sp\n",
        "import scipy.linalg as la"
      ],
      "execution_count": 1,
      "outputs": []
    },
    {
      "cell_type": "code",
      "metadata": {
        "id": "EkjUqcxaJoMf"
      },
      "source": [
        "def det_rec(M):\n",
        "  M = sp.Matrix(M)\n",
        "  #make a sympy matrix from the input\n",
        "  assert M.shape[0] == M.shape[1]\n",
        "  #if M is not square raise an error\n",
        "  det = 0\n",
        "  if M.shape == (1,1):\n",
        "    return M[0,0]\n",
        "    #if M is 1 by 1 the determinant is the element\n",
        "  else:\n",
        "    for i in range(M.shape[1]):\n",
        "      N = M.copy()\n",
        "      N.row_del(0)\n",
        "      N.col_del(i)\n",
        "      #N is set to each cofactor expansion matrix of M\n",
        "      det = det + M[0,i]*det_rec(N)*((-1)**(i))\n",
        "      #the determinant of N is added to det within the rules of cofactor expansion\n",
        "  return det\n",
        "  "
      ],
      "execution_count": 44,
      "outputs": []
    },
    {
      "cell_type": "code",
      "metadata": {
        "colab": {
          "base_uri": "https://localhost:8080/",
          "height": 37
        },
        "id": "3Ir72d6-PcT9",
        "outputId": "cdf4b1dc-0eb1-43e0-e840-a6629ad06cd3"
      },
      "source": [
        "det_rec([[1,2],[1,1]])"
      ],
      "execution_count": 45,
      "outputs": [
        {
          "output_type": "execute_result",
          "data": {
            "text/latex": "$\\displaystyle -1$",
            "text/plain": [
              "-1"
            ]
          },
          "metadata": {},
          "execution_count": 45
        }
      ]
    },
    {
      "cell_type": "code",
      "metadata": {
        "id": "A26aXY_UTci9"
      },
      "source": [
        "def det_LU(M):\n",
        "  det = 1\n",
        "  M = sp.Matrix(M)\n",
        "  PLU = la.lu(M)\n",
        "  #set PLU as the LU expansion of M\n",
        "  P = PLU[0]\n",
        "  L = PLU[1]\n",
        "  U = PLU[2]\n",
        "  #U is the upper triangular of M\n",
        "  for i in range(M.shape[0]):\n",
        "    det = det*U[i,i]\n",
        "    #det is the product of the diagonal of U\n",
        "  return det"
      ],
      "execution_count": 52,
      "outputs": []
    },
    {
      "cell_type": "code",
      "metadata": {
        "colab": {
          "base_uri": "https://localhost:8080/"
        },
        "id": "0nWRxK4TUk17",
        "outputId": "5b387650-c9a3-49d6-eafd-8c63eba281ed"
      },
      "source": [
        "det_LU([[1,2],[1,1]])"
      ],
      "execution_count": 51,
      "outputs": [
        {
          "output_type": "execute_result",
          "data": {
            "text/plain": [
              "-1.0"
            ]
          },
          "metadata": {},
          "execution_count": 51
        }
      ]
    }
  ]
}