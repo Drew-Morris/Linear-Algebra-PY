{
  "nbformat": 4,
  "nbformat_minor": 0,
  "metadata": {
    "colab": {
      "name": "Gram-Schmidt Process.ipynb",
      "provenance": []
    },
    "kernelspec": {
      "name": "python3",
      "display_name": "Python 3"
    },
    "language_info": {
      "name": "python"
    }
  },
  "cells": [
    {
      "cell_type": "code",
      "metadata": {
        "id": "8xJn7A-CXEhK"
      },
      "source": [
        "import numpy as np\n",
        "import math as math"
      ],
      "execution_count": 1,
      "outputs": []
    },
    {
      "cell_type": "code",
      "metadata": {
        "id": "xLJQWn3LbJhH"
      },
      "source": [
        "def magnitude(v):\n",
        "  return v@v"
      ],
      "execution_count": 2,
      "outputs": []
    },
    {
      "cell_type": "code",
      "metadata": {
        "id": "rENNbbAHWWfP"
      },
      "source": [
        "def projection(A,B):\n",
        "  assert len(A) == len(B)\n",
        "  A = np.array(A)\n",
        "  B = np.array(B)\n",
        "  return ((A@B)/(A@A))*A\n",
        "  #project B onto A using the projection formula"
      ],
      "execution_count": 3,
      "outputs": []
    },
    {
      "cell_type": "code",
      "metadata": {
        "id": "XofQ8bLpY_ml"
      },
      "source": [
        "def GramSchmidt(X):\n",
        "  l = len(X[0])\n",
        "  V = [np.array(X[0])]\n",
        "  #orthogonal vector list\n",
        "  for x in range(len(X)):\n",
        "    u = np.zeros((1,l))[0]\n",
        "    w = np.zeros((1,l))[0]\n",
        "    #zero vectors\n",
        "    for v in range(len(V)):\n",
        "      u = u + projection(V[v],X[x])\n",
        "      #project each x onto the orthogonal vector list\n",
        "    w = X[x] - u\n",
        "    #w is the perpendicular vector of x to V\n",
        "    if magnitude(w) != 0:\n",
        "      V = V + [w]\n",
        "    #if V is non-zero it is added to V\n",
        "  return V\n"
      ],
      "execution_count": 4,
      "outputs": []
    },
    {
      "cell_type": "code",
      "metadata": {
        "id": "ZYxk15JAh4xo"
      },
      "source": [
        "def Orthonormal(X):\n",
        "  V = []\n",
        "  for x in range(len(X)):\n",
        "    U = []\n",
        "    m = magnitude(X[x])\n",
        "    for y in range(len(X[x])):\n",
        "      v = X[x][y]/np.sqrt(m)\n",
        "      U = U + [v]\n",
        "      #normalize each term in the vector x and add them to the new vector U\n",
        "    U = np.array(U)\n",
        "    V = V + [U]\n",
        "    #add vector U to vector list V\n",
        "  return V"
      ],
      "execution_count": 33,
      "outputs": []
    }
  ]
}