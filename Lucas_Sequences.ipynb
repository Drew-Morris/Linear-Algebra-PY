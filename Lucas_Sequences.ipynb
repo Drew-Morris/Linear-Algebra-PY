{
  "nbformat": 4,
  "nbformat_minor": 0,
  "metadata": {
    "colab": {
      "name": "Lucas Sequences.ipynb",
      "provenance": []
    },
    "kernelspec": {
      "name": "python3",
      "display_name": "Python 3"
    },
    "language_info": {
      "name": "python"
    }
  },
  "cells": [
    {
      "cell_type": "code",
      "metadata": {
        "id": "5GuICoz3GCKn"
      },
      "source": [
        "import sympy as sp"
      ],
      "execution_count": 8,
      "outputs": []
    },
    {
      "cell_type": "code",
      "metadata": {
        "id": "DtLUtntqFjnm"
      },
      "source": [
        "def LucasU_pow(P,Q,n):\n",
        "  A = sp.Matrix([[P,-Q],[1,0]])\n",
        "  #creates matrix as described above\n",
        "  u = sp.Matrix([[1],[0]])\n",
        "  B = sp.Matrix([[P,-Q],[1,0]])\n",
        "  #B = A\n",
        "  for i in range(1,n):\n",
        "    B = A*B\n",
        "    #B is raised to the nth power\n",
        "  v = B*u\n",
        "  return v[1]"
      ],
      "execution_count": 75,
      "outputs": []
    },
    {
      "cell_type": "code",
      "metadata": {
        "colab": {
          "base_uri": "https://localhost:8080/",
          "height": 58
        },
        "id": "NlK-Awg6JM4O",
        "outputId": "a1bbcf5f-7c3e-4947-a8b9-aa1f6b4f0c7f"
      },
      "source": [
        "LucasU_pow(1,-1,8)"
      ],
      "execution_count": 78,
      "outputs": [
        {
          "output_type": "execute_result",
          "data": {
            "text/latex": "$\\displaystyle \\left[\\begin{matrix}34\\\\21\\end{matrix}\\right]$",
            "text/plain": [
              "Matrix([\n",
              "[34],\n",
              "[21]])"
            ]
          },
          "metadata": {},
          "execution_count": 78
        }
      ]
    },
    {
      "cell_type": "code",
      "metadata": {
        "id": "Jk5UnHBLMz6n"
      },
      "source": [
        "def Lucas_eig(P,Q,n):\n",
        "  A = sp.Matrix([[P,-Q],[1,0]])\n",
        "  u = sp.Matrix([[1],[0]])\n",
        "  E = A.eigenvects()\n",
        "  #take the eigenvectors and eigenvalues of A\n",
        "  e_1 = E[0][0]\n",
        "  e_2 = E[1][0]\n",
        "  #pull out the eigenvalues of E\n",
        "  v_1 = (E[0][2])[0]\n",
        "  v_2 = (E[1][2])[0]\n",
        "  #pull out the eigenvectors of E\n",
        "  e_1 = e_1**n\n",
        "  e_2 = e_2**n\n",
        "  #raise the eigenvalues to n\n",
        "  C = sp.Matrix([[v_1[0],v_2[0]],[v_1[1],v_2[1]]])\n",
        "  #build the matrix of {v_1,v_2}\n",
        "  I = C.inv()\n",
        "  #take the inverse of C\n",
        "  x = I*u\n",
        "  a = x[0]\n",
        "  b = x[1]\n",
        "  #a and b are the terms of x\n",
        "  M = a*e_1*v_1 + b*e_2*v_2\n",
        "  y = M[1]\n",
        "  #U_n is equal to the second term of y\n",
        "  return float(sp.re(y))"
      ],
      "execution_count": 145,
      "outputs": []
    },
    {
      "cell_type": "code",
      "metadata": {
        "colab": {
          "base_uri": "https://localhost:8080/"
        },
        "id": "l5YSVSy-ODZ1",
        "outputId": "46da8a88-6338-40c9-9793-b49e0aa80157"
      },
      "source": [
        "Lucas_eig(1,-1,8)"
      ],
      "execution_count": 146,
      "outputs": [
        {
          "output_type": "execute_result",
          "data": {
            "text/plain": [
              "21.0"
            ]
          },
          "metadata": {},
          "execution_count": 146
        }
      ]
    }
  ]
}