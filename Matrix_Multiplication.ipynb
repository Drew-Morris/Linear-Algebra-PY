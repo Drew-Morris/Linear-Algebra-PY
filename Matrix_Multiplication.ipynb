{
  "nbformat": 4,
  "nbformat_minor": 0,
  "metadata": {
    "colab": {
      "name": "Matrix Multiplication.ipynb",
      "provenance": []
    },
    "kernelspec": {
      "name": "python3",
      "display_name": "Python 3"
    },
    "language_info": {
      "name": "python"
    }
  },
  "cells": [
    {
      "cell_type": "code",
      "metadata": {
        "colab": {
          "base_uri": "https://localhost:8080/"
        },
        "id": "_1wm72GUVy14",
        "outputId": "e7068043-ab85-4bea-8ccf-a60052c68cda"
      },
      "source": [
        "def matXvec(M,v):\n",
        "  t = 0\n",
        "  #term\n",
        "  o = []\n",
        "  #output vector\n",
        "  if len(M[0]) != len(v):\n",
        "    return \"Error: Vectors are different sizes\"\n",
        "    #if the length of the matrix's rows are not equal to the length of the vector, return error message\n",
        "  for i in range(len(M)):\n",
        "    #for ever row in the Matrix...\n",
        "    for j in range(len(M[i])):\n",
        "      #...for every value in that row\n",
        "      t = t+(M[i][j]*v[j])\n",
        "      #the term the sum of itself and the product of value j in row i of the input matrix, and value j in the input vector\n",
        "    o = o + [t]\n",
        "    #the output vector has term t added to it\n",
        "    t = 0\n",
        "    #t is reset to 0\n",
        "  return o\n",
        "matXvec([ [1, -1], [1,2 ] ], [ 2, -1 ])"
      ],
      "execution_count": 5,
      "outputs": [
        {
          "output_type": "execute_result",
          "data": {
            "text/plain": [
              "[3, 0]"
            ]
          },
          "metadata": {},
          "execution_count": 5
        }
      ]
    },
    {
      "cell_type": "code",
      "metadata": {
        "colab": {
          "base_uri": "https://localhost:8080/"
        },
        "id": "7KX8JH6QZH8Z",
        "outputId": "198387f0-8249-4bd8-e371-68c21f44e294"
      },
      "source": [
        "def mat_col(M,n):\n",
        "  col = []\n",
        "  #return col\n",
        "  for i in range(len(M)):\n",
        "    col = col + [M[i][n]]\n",
        "  return col\n",
        "mat_col([[1, 2, 3 ], [3, 4, 5 ], [5, 6, 7 ]], 2)"
      ],
      "execution_count": 7,
      "outputs": [
        {
          "output_type": "execute_result",
          "data": {
            "text/plain": [
              "[3, 5, 7]"
            ]
          },
          "metadata": {},
          "execution_count": 7
        }
      ]
    },
    {
      "cell_type": "code",
      "metadata": {
        "colab": {
          "base_uri": "https://localhost:8080/"
        },
        "id": "1DIY-mxX-gQ0",
        "outputId": "7839905e-d194-4ac0-92ce-09a3300f9d5a"
      },
      "source": [
        "def Mult_Matrix(M,N):\n",
        "  k = 0\n",
        "  #counting term\n",
        "  n = 0\n",
        "  #output matrix term\n",
        "  R = []\n",
        "  #output matrix row\n",
        "  S = []\n",
        "  #output matrix\n",
        "  for i in range(len(M)):\n",
        "    #for every row in M...\n",
        "    while k < len(N[0]):\n",
        "      #moves through cols of N by k\n",
        "      for j in range(len(M[i])):\n",
        "        n = n+((M[i][j])*(N[j][k]))\n",
        "        #...n is the sum of itself and the product of term ixj in M and term jxk in N\n",
        "      k = k+1\n",
        "      #k counts forward by 1\n",
        "      R = R+[n]\n",
        "      #term n is added to the output row\n",
        "      n = 0\n",
        "      #term n is reset\n",
        "    S = S+[R]\n",
        "    #row r is added to the output matrix\n",
        "    R = []\n",
        "    #row r is reset\n",
        "    k = 0\n",
        "    #the counting term is reset\n",
        "  return S\n",
        "Mult_Matrix([[0,1,0],[0,0,1],[1,0,0]],[[1,2,3],[3,4,5],[5,6,7]])\n",
        "    "
      ],
      "execution_count": 9,
      "outputs": [
        {
          "output_type": "execute_result",
          "data": {
            "text/plain": [
              "[[3, 4, 5], [5, 6, 7], [1, 2, 3]]"
            ]
          },
          "metadata": {},
          "execution_count": 9
        }
      ]
    }
  ]
}