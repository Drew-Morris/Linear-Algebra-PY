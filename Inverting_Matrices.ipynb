{
  "nbformat": 4,
  "nbformat_minor": 0,
  "metadata": {
    "colab": {
      "name": "Inverting Matrices.ipynb",
      "provenance": []
    },
    "kernelspec": {
      "name": "python3",
      "display_name": "Python 3"
    },
    "language_info": {
      "name": "python"
    }
  },
  "cells": [
    {
      "cell_type": "code",
      "metadata": {
        "id": "fsNk07t3JZ0a"
      },
      "source": [
        "import sympy as sp\n",
        "import numpy as np"
      ],
      "execution_count": 8,
      "outputs": []
    },
    {
      "cell_type": "code",
      "metadata": {
        "id": "ouRsXsU8JlcZ"
      },
      "source": [
        "def aug_id(M):\n",
        "  h = M.shape[0]\n",
        "  #the height of the input matrix\n",
        "  w_M = M.shape[1]\n",
        "  #the width of the input matrix\n",
        "  I = np.identity(h)\n",
        "  I = sp.Matrix(I)\n",
        "  #I is the identity matrix with the same height as M\n",
        "  R = []\n",
        "  #empty row set\n",
        "  N = []\n",
        "  #output matrix\n",
        "  w_N = int(M.shape[1]+I.shape[1])\n",
        "  #width of the output matrix\n",
        "  for r in range(h):\n",
        "    #for each row...\n",
        "    for e in range(w_N):\n",
        "      #...for each element in said row...\n",
        "      if e <= w_M-1:\n",
        "        R.append(M[r,e])\n",
        "        #...add the elements of the rth row of M to the row set first...\n",
        "      if e > w_M-1:\n",
        "        R.append(I[r,e-w_M])\n",
        "        #...then add the elements of the rth row of I to the row set\n",
        "    N.append(R)\n",
        "    #add the row set to the output Matrix\n",
        "    R = []\n",
        "    #clear the row set\n",
        "  return sp.Matrix(N)"
      ],
      "execution_count": 68,
      "outputs": []
    },
    {
      "cell_type": "code",
      "metadata": {
        "id": "AwBFHwwlTHlm"
      },
      "source": [
        "def mat_inv(M):\n",
        "  h = M.shape[0]\n",
        "  #input height\n",
        "  A = aug_id(M).rref()\n",
        "  A = A[0]\n",
        "  #rref of M augmented with the identity matrix of corresponding size, without the pivot column tuple\n",
        "  R = []\n",
        "  #empty row set\n",
        "  N = []\n",
        "  #output matrix\n",
        "  for r in range(A.shape[0]):\n",
        "    for e in range(h,A.shape[1]):\n",
        "      R.append(A[r,e])\n",
        "    N.append(R)\n",
        "    R = []\n",
        "    #N is the matrix A, without the idenity Matrix in front\n",
        "  return sp.Matrix(N)"
      ],
      "execution_count": 69,
      "outputs": []
    }
  ]
}