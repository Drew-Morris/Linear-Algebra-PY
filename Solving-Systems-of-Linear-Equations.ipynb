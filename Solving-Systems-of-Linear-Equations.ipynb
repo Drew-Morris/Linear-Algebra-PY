{
  "nbformat": 4,
  "nbformat_minor": 0,
  "metadata": {
    "colab": {
      "name": "Solving Systems of Linear Equations.ipynb",
      "provenance": []
    },
    "kernelspec": {
      "name": "python3",
      "display_name": "Python 3"
    },
    "language_info": {
      "name": "python"
    }
  },
  "cells": [
    {
      "cell_type": "code",
      "metadata": {
        "id": "dOuryfR7krH4"
      },
      "source": [
        "import numpy as np\n",
        "def row_swap(M,i,j):\n",
        "  #accepts inputs of a Matrix, an ith row and a jth column\n",
        "  if M[i,j] != 0:\n",
        "    return M\n",
        "    #if the (i,j) term in M is not 0, do nothing to M\n",
        "  if M[i,j] == 0:\n",
        "    #if the (i,j) term in M is 0...\n",
        "    for k in range(i,M.shape[0]):\n",
        "      if M[k,j] != 0:\n",
        "        I = M[i].copy()\n",
        "        M[i] = M[k].copy()\n",
        "        M[k] = I\n",
        "        break\n",
        "        #... check every every term past i in column j until a non-zero term (k) is found, then swap the kth row and the ith row\n",
        "    return M\n"
      ],
      "execution_count": null,
      "outputs": []
    },
    {
      "cell_type": "code",
      "metadata": {
        "id": "10IAzI13rdGx"
      },
      "source": [
        "import numpy as np\n",
        "def row_add(M,i,j):\n",
        "  #accepts inputs of a Matrix, and ith row and a jth column\n",
        "  if M[i,j] == 0:\n",
        "    return M\n",
        "    #if the (i,j) term in M is 0, do nothing to M\n",
        "  if M[i,j] != 0:\n",
        "    #if the (i,j) term is not 0...\n",
        "    for k in range((i+1),M.shape[0]):\n",
        "      if M[k] != 0:\n",
        "        M[k] = (M[i,j]*M[k])-(M[k,j]*M[i])\n",
        "      #...each row following i (k) has row addition done to it such that term (k,j) becomes 0, and terms (k,j) that are 0 are left alone\n",
        "    return M"
      ],
      "execution_count": null,
      "outputs": []
    },
    {
      "cell_type": "code",
      "metadata": {
        "id": "Sear-owmvqUq"
      },
      "source": [
        "import numpy as np\n",
        "def ref(M):\n",
        "  i = 0\n",
        "  #row index set to 0\n",
        "  for j in range(M[i].shape[1]):\n",
        "    M = row_swap(M,i,j)\n",
        "    #for every column in M do the row swap function\n",
        "    if M[i,j] != 0:\n",
        "      M = row_add(M,i,j)\n",
        "      #if the expected pivot position is non-zero, do the row add function\n",
        "      i = i+1\n",
        "      #move on to the next row\n",
        "  return M"
      ],
      "execution_count": 57,
      "outputs": []
    }
  ]
}