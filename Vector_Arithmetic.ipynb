{
  "nbformat": 4,
  "nbformat_minor": 0,
  "metadata": {
    "colab": {
      "name": "Vector Arithmetic.ipynb",
      "provenance": []
    },
    "kernelspec": {
      "name": "python3",
      "display_name": "Python 3"
    },
    "language_info": {
      "name": "python"
    }
  },
  "cells": [
    {
      "cell_type": "code",
      "metadata": {
        "colab": {
          "base_uri": "https://localhost:8080/"
        },
        "id": "wS85Fc98WlgX",
        "outputId": "f4211298-8ef9-4404-e5f5-208cfa63413f"
      },
      "source": [
        "def scalar_mult(s,V):\n",
        "  I = []\n",
        "  #an empty list\n",
        "  for i in range(len(V)):\n",
        "    #for all entries in V...\n",
        "    I.append (s*V[i])\n",
        "    #...multiply the entry by s and put it at the end of list I\n",
        "  return I\n",
        "scalar_mult(3,[1.,0.,0.5])"
      ],
      "execution_count": 28,
      "outputs": [
        {
          "output_type": "execute_result",
          "data": {
            "text/plain": [
              "[3.0, 0.0, 1.5]"
            ]
          },
          "metadata": {},
          "execution_count": 28
        }
      ]
    },
    {
      "cell_type": "code",
      "metadata": {
        "colab": {
          "base_uri": "https://localhost:8080/"
        },
        "id": "ZFtb8GjCdUom",
        "outputId": "7aede783-7f97-41c2-ff34-0010ecbdd679"
      },
      "source": [
        "def vector_add(V,W):\n",
        "  I = []\n",
        "  #an empty list\n",
        "  if len(V) != len(W):\n",
        "    raise Exception('Error: Vectors are different sizes')\n",
        "    #if the length of V and W are not equal, return the error\n",
        "  if len(V) == len(W):\n",
        "    #if the length of V and W are equal...\n",
        "    for i in range(len(V)):\n",
        "      #...for all entries in V...\n",
        "      I.append (V[i]+W[i])\n",
        "      #... add each entry in V to its corresponding entry in W, and place that entry at the end of I\n",
        "  return I\n",
        "vector_add([1,-1,0],[1,2,3])\n"
      ],
      "execution_count": 29,
      "outputs": [
        {
          "output_type": "execute_result",
          "data": {
            "text/plain": [
              "[2, 1, 3]"
            ]
          },
          "metadata": {},
          "execution_count": 29
        }
      ]
    },
    {
      "cell_type": "code",
      "metadata": {
        "colab": {
          "base_uri": "https://localhost:8080/"
        },
        "id": "tUISZErkfYnD",
        "outputId": "57709824-53e9-46c5-f6b9-6f9c5665f74f"
      },
      "source": [
        "def dot_product(V,W):\n",
        "  I = []\n",
        "  #an empty list\n",
        "  if len(V) != len(W):\n",
        "    raise Exception('Error: Vectors are different sizes')\n",
        "    #if the length of V and W are not equal, return the error\n",
        "  if len(V) == len(W):\n",
        "    #if the length of V and W are equal...\n",
        "    for i in range(len(V)):\n",
        "      #...for all entries in V...\n",
        "      I.append(V[i]*W[i])\n",
        "      #... multiply each in entry in V to its corresponding entry in W, and place that entry at the end of I\n",
        "  return sum(I)\n",
        "  #return the sum of all terms in I\n",
        "dot_product([1,3],[4,0])"
      ],
      "execution_count": 32,
      "outputs": [
        {
          "output_type": "execute_result",
          "data": {
            "text/plain": [
              "4"
            ]
          },
          "metadata": {},
          "execution_count": 32
        }
      ]
    }
  ]
}