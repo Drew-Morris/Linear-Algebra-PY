{
  "nbformat": 4,
  "nbformat_minor": 0,
  "metadata": {
    "colab": {
      "name": "Matrix Row Reduction.ipynb",
      "provenance": []
    },
    "kernelspec": {
      "name": "python3",
      "display_name": "Python 3"
    },
    "language_info": {
      "name": "python"
    }
  },
  "cells": [
    {
      "cell_type": "code",
      "metadata": {
        "colab": {
          "base_uri": "https://localhost:8080/"
        },
        "id": "D5aKJc8qZHYE",
        "outputId": "5963ae32-2177-4f5d-dde4-4427401a8430"
      },
      "source": [
        "def row_swap(A,i,j):\n",
        "  k = A[j]\n",
        "  #k is the secondary selected row\n",
        "  A[j] = A[i]\n",
        "  #the secondary selected row becomes the primary selected row\n",
        "  A[i] = k\n",
        "  #the primary selected row becomes the secondary selected row\n",
        "  return A\n",
        "row_swap([ [ 1, -1, 1 ], [ 0, 1, 3 ], [ 2, -2, 0] ], 0, 2)\n"
      ],
      "execution_count": null,
      "outputs": [
        {
          "output_type": "execute_result",
          "data": {
            "text/plain": [
              "[[2, -2, 0], [0, 1, 3], [1, -1, 1]]"
            ]
          },
          "metadata": {},
          "execution_count": 1
        }
      ]
    },
    {
      "cell_type": "code",
      "metadata": {
        "colab": {
          "base_uri": "https://localhost:8080/"
        },
        "id": "VVCG5gczklvm",
        "outputId": "b1ab2fa8-786b-40fe-cd97-cccb01fec046"
      },
      "source": [
        "def row_mult(A,i,c):\n",
        "  for j in range(len(A[i])):\n",
        "    #for every term, j, in row, i, of A...\n",
        "    A[i][j] = c*A[i][j]\n",
        "    #...j is multiplied by c\n",
        "  return A\n",
        "row_mult([ [ 1, 1 ], [ 2, 3 ] ], 1, 3)"
      ],
      "execution_count": null,
      "outputs": [
        {
          "output_type": "execute_result",
          "data": {
            "text/plain": [
              "[[1, 1], [6, 9]]"
            ]
          },
          "metadata": {},
          "execution_count": 16
        }
      ]
    },
    {
      "cell_type": "code",
      "metadata": {
        "colab": {
          "base_uri": "https://localhost:8080/"
        },
        "id": "18zcXS1dh74E",
        "outputId": "0ec64437-2dfd-474a-cbc2-56122d5209ab"
      },
      "source": [
        "def row_add(A,i,j,c):\n",
        "  row_additive = []\n",
        "  for k in range(len(A[j])):\n",
        "    row_additive = row_additive + [A[j][k]]\n",
        "  for k in range(len(row_additive)):\n",
        "    #for every term, k, in row_additive, of A...\n",
        "    row_additive[k] = c*(row_additive[k])\n",
        "    #...k is multiplied by c\n",
        "  for k in range(len(A[i])):\n",
        "    #for every term, k, in row, i, of A...\n",
        "    A[i][k] = row_additive[k] + A[i][k]\n",
        "    #...the corresponding term, k, in row, j, is added to term, k, in row, i\n",
        "  return A\n",
        "row_add([[-33, 17, -24, -99, 72, 80, -73], [48, 80, 56, -88, 5, -59, -80], [-92, -78, 94, -80, -77, 75, -53], [-98, -11, 2, 95, -13, 73, -81]], 0, 0, -29)"
      ],
      "execution_count": 10,
      "outputs": [
        {
          "output_type": "execute_result",
          "data": {
            "text/plain": [
              "[[924, -476, 672, 2772, -2016, -2240, 2044],\n",
              " [48, 80, 56, -88, 5, -59, -80],\n",
              " [-92, -78, 94, -80, -77, 75, -53],\n",
              " [-98, -11, 2, 95, -13, 73, -81]]"
            ]
          },
          "metadata": {},
          "execution_count": 10
        }
      ]
    }
  ]
}